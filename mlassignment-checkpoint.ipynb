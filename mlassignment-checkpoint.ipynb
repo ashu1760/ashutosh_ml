{
 "cells": [
  {
   "cell_type": "code",
   "execution_count": 14,
   "id": "5e699efb-3db4-4a15-bbfe-8cdec3b77ce3",
   "metadata": {},
   "outputs": [
    {
     "name": "stdout",
     "output_type": "stream",
     "text": [
      "Epoch 0, m: 0.1867, c: 0.0800, Cost: 18.6667\n",
      "Epoch 1, m: 0.3527, c: 0.1509, Cost: 14.7710\n",
      "Epoch 2, m: 0.5004, c: 0.2138, Cost: 11.6915\n",
      "Epoch 3, m: 0.6318, c: 0.2695, Cost: 9.2573\n",
      "Epoch 4, m: 0.7487, c: 0.3188, Cost: 7.3332\n",
      "\n",
      "Final results:\n",
      "Slope (m): 0.7487\n",
      "Intercept (c): 0.3188\n"
     ]
    }
   ],
   "source": [
    "import numpy as np\n",
    "\n",
    "x = np.array([1, 2, 3])  \n",
    "y = np.array([2, 4, 6])  \n",
    "\n",
    "learning_rate = 0.01  \n",
    "epochs = 5    \n",
    "\n",
    "m = 0.0\n",
    "c = 0.0\n",
    "\n",
    "def gradient_descent(x, y, m, c, learning_rate, epochs):\n",
    "    n = len(x)  \n",
    "    \n",
    "    for epoch in range(epochs):\n",
    "        y_pred = m * x + c  \n",
    "        error = y - y_pred  \n",
    "\n",
    "        dm = (-2 / n) * np.sum(x * error)  \n",
    "        dc = (-2 / n) * np.sum(error)      \n",
    "\n",
    "        m -= learning_rate * dm\n",
    "        c -= learning_rate * dc\n",
    "\n",
    "        cost = np.mean(error ** 2)\n",
    "\n",
    "        print(f\"Epoch {epoch}, m: {m:.4f}, c: {c:.4f}, Cost: {cost:.4f}\")\n",
    "    \n",
    "    return m, c\n",
    "\n",
    "\n",
    "final_m, final_c = gradient_descent(x, y, m, c, learning_rate, epochs)\n",
    "print(\"\\nFinal results:\")\n",
    "print(f\"Slope (m): {final_m:.4f}\")\n",
    "print(f\"Intercept (c): {final_c:.4f}\")"
   ]
  },
  {
   "cell_type": "code",
   "execution_count": null,
   "id": "54aa2100-6ca3-48f1-9dfa-a0193d43de55",
   "metadata": {},
   "outputs": [],
   "source": []
  }
 ],
 "metadata": {
  "kernelspec": {
   "display_name": "Python 3 (ipykernel)",
   "language": "python",
   "name": "python3"
  },
  "language_info": {
   "codemirror_mode": {
    "name": "ipython",
    "version": 3
   },
   "file_extension": ".py",
   "mimetype": "text/x-python",
   "name": "python",
   "nbconvert_exporter": "python",
   "pygments_lexer": "ipython3",
   "version": "3.10.12"
  }
 },
 "nbformat": 4,
 "nbformat_minor": 5
}
