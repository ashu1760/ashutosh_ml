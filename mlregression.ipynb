{
 "cells": [
  {
   "cell_type": "code",
   "execution_count": 1,
   "id": "917b8358-11ee-47b4-82c5-bd2ac25185a5",
   "metadata": {},
   "outputs": [],
   "source": [
    "import numpy as np"
   ]
  },
  {
   "cell_type": "code",
   "execution_count": 2,
   "id": "8ffaff8d-8a12-41c6-8b14-0e7c48b66632",
   "metadata": {},
   "outputs": [],
   "source": [
    "def sigmoid(z):\n",
    "    return 1 / (1 + np.exp(-z))"
   ]
  },
  {
   "cell_type": "code",
   "execution_count": 3,
   "id": "3f02a751-6cb5-4c2d-b2bd-58c54d7acb77",
   "metadata": {},
   "outputs": [],
   "source": [
    "def initialize_weights(n):\n",
    "    W = np.zeros(n)\n",
    "    b = 0\n",
    "    return W, b"
   ]
  },
  {
   "cell_type": "code",
   "execution_count": 4,
   "id": "c4498a68-31cc-4faf-8e53-8acfee37dc91",
   "metadata": {},
   "outputs": [],
   "source": [
    "def compute_cost(Y, Y_pred):\n",
    "    m = Y.shape[0]\n",
    "    cost = (-1 / m) * np.sum(Y * np.log(Y_pred) + (1 - Y) * np.log(1 - Y_pred))\n",
    "    return cost"
   ]
  },
  {
   "cell_type": "code",
   "execution_count": 5,
   "id": "48ae405a-1139-43b2-8d61-9ef62c43ec5b",
   "metadata": {},
   "outputs": [],
   "source": [
    "def compute_gradients(X, Y, Y_pred):\n",
    "    m = X.shape[0]\n",
    "    dW = (1 / m) * np.dot(X.T, (Y_pred - Y))\n",
    "    db = (1 / m) * np.sum(Y_pred - Y)\n",
    "    return dW, db"
   ]
  },
  {
   "cell_type": "code",
   "execution_count": 6,
   "id": "a7df12c6-ecb4-45ed-92c5-5b213d115760",
   "metadata": {},
   "outputs": [],
   "source": [
    "\n",
    "def train_logistic_regression(X, Y, lr=0.01, epochs=1000):\n",
    "    n_features = X.shape[1]\n",
    "    W, b = initialize_weights(n_features)\n",
    "    \n",
    "    for i in range(epochs):\n",
    "        Z = np.dot(X, W) + b\n",
    "        Y_pred = sigmoid(Z)\n",
    "        \n",
    "        cost = compute_cost(Y, Y_pred)\n",
    "        dW, db = compute_gradients(X, Y, Y_pred)\n",
    "        \n",
    "        W -= lr * dW\n",
    "        b -= lr * db\n",
    "        \n",
    "        if i % 100 == 0:\n",
    "            print(f\"Epoch {i}, Cost: {cost:.4f}\")\n",
    "    \n",
    "    return W, b"
   ]
  },
  {
   "cell_type": "code",
   "execution_count": 7,
   "id": "56207ba0-0a1b-4a68-91d6-90a81df0ebf6",
   "metadata": {},
   "outputs": [],
   "source": [
    "def predict(X, W, b, threshold=0.5):\n",
    "    Y_pred = sigmoid(np.dot(X, W) + b)\n",
    "    return (Y_pred >= threshold).astype(int)"
   ]
  },
  {
   "cell_type": "code",
   "execution_count": 8,
   "id": "de4f7b7a-84d0-4d7b-83b0-16974cf0fca1",
   "metadata": {},
   "outputs": [
    {
     "name": "stdout",
     "output_type": "stream",
     "text": [
      "Epoch 0, Cost: 0.6931\n",
      "Epoch 100, Cost: 0.6022\n",
      "Epoch 200, Cost: 0.5345\n",
      "Epoch 300, Cost: 0.4830\n",
      "Epoch 400, Cost: 0.4428\n",
      "Epoch 500, Cost: 0.4108\n",
      "Epoch 600, Cost: 0.3846\n",
      "Epoch 700, Cost: 0.3629\n",
      "Epoch 800, Cost: 0.3445\n",
      "Epoch 900, Cost: 0.3287\n",
      "Training Accuracy: 95.00%\n"
     ]
    }
   ],
   "source": [
    "if __name__ == \"__main__\":\n",
    "    np.random.seed(42)\n",
    "    X = np.random.rand(100, 2)  \n",
    "    Y = (X[:, 0] + X[:, 1] > 1).astype(int)  \n",
    "    \n",
    "    W, b = train_logistic_regression(X, Y, lr=0.1, epochs=1000)\n",
    "    Y_pred = predict(X, W, b)\n",
    "    \n",
    "    accuracy = np.mean(Y_pred == Y) * 100\n",
    "    print(f\"Training Accuracy: {accuracy:.2f}%\")"
   ]
  },
  {
   "cell_type": "code",
   "execution_count": null,
   "id": "52fe45bc-b813-43ec-a24f-b48fe2b86a89",
   "metadata": {},
   "outputs": [],
   "source": []
  }
 ],
 "metadata": {
  "kernelspec": {
   "display_name": "Python 3 (ipykernel)",
   "language": "python",
   "name": "python3"
  },
  "language_info": {
   "codemirror_mode": {
    "name": "ipython",
    "version": 3
   },
   "file_extension": ".py",
   "mimetype": "text/x-python",
   "name": "python",
   "nbconvert_exporter": "python",
   "pygments_lexer": "ipython3",
   "version": "3.10.12"
  }
 },
 "nbformat": 4,
 "nbformat_minor": 5
}
